{
 "cells": [
  {
   "cell_type": "code",
   "execution_count": 1,
   "metadata": {},
   "outputs": [],
   "source": [
    "from sklearn.model_selection import train_test_split\n",
    "import pandas as pd\n",
    "import numpy as np\n",
    "import os\n",
    "import matplotlib.pyplot as plt\n",
    "import seaborn as sns\n",
    "from sklearn.metrics import classification_report,ConfusionMatrixDisplay,confusion_matrix\n",
    "from sklearn.metrics import accuracy_score\n",
    "import torch\n",
    "import torch.nn as nn\n",
    "import torch.optim as optim\n",
    "from torch.utils.data import DataLoader, TensorDataset"
   ]
  },
  {
   "cell_type": "code",
   "execution_count": 2,
   "metadata": {},
   "outputs": [],
   "source": [
    "def load_data():\n",
    "    # Constants\n",
    "    time = 10\n",
    "    offset = 100\n",
    "    folders = [\"LAYING\",\"SITTING\",\"STANDING\",\"WALKING\",\"WALKING_DOWNSTAIRS\",\"WALKING_UPSTAIRS\"]\n",
    "    classes = {\"WALKING\":1,\"WALKING_UPSTAIRS\":2,\"WALKING_DOWNSTAIRS\":3,\"SITTING\":4,\"STANDING\":5,\"LAYING\":6}\n",
    "\n",
    "    combined_dir = os.path.join(\"Combined\")\n",
    "\n",
    "    X_train=[]\n",
    "    y_train=[]\n",
    "    dataset_dir = os.path.join(combined_dir,\"Train\")\n",
    "\n",
    "    for folder in folders:\n",
    "        files = os.listdir(os.path.join(dataset_dir,folder))\n",
    "\n",
    "        for file in files:\n",
    "\n",
    "            df = pd.read_csv(os.path.join(dataset_dir,folder,file),sep=\",\",header=0)\n",
    "            df = df[offset:offset+time*50]\n",
    "            X_train.append(df.values)\n",
    "            y_train.append(classes[folder])\n",
    "\n",
    "    X_train = np.array(X_train)\n",
    "    y_train = np.array(y_train)\n",
    "\n",
    "    X_test=[]\n",
    "    y_test=[]\n",
    "    dataset_dir = os.path.join(combined_dir,\"Test\")\n",
    "\n",
    "    for folder in folders:\n",
    "        files = os.listdir(os.path.join(dataset_dir,folder))\n",
    "        for file in files:\n",
    "\n",
    "            df = pd.read_csv(os.path.join(dataset_dir,folder,file),sep=\",\",header=0)\n",
    "            df = df[offset:offset+time*50]\n",
    "            X_test.append(df.values)\n",
    "            y_test.append(classes[folder])\n",
    "\n",
    "    X_test = np.array(X_test)\n",
    "    y_test = np.array(y_test)\n",
    "\n",
    "    X = np.concatenate((X_train,X_test))\n",
    "    y = np.concatenate((y_train,y_test))\n",
    "\n",
    "    seed = 4\n",
    "    X_train,X_test,y_train,y_test = train_test_split(X,y,test_size=0.3,random_state=seed,stratify=y)\n",
    "\n",
    "    print(\"Training data shape: \",X_train.shape)\n",
    "    print(\"Testing data shape: \",X_test.shape)\n",
    "\n",
    "    return X_train,X_test,y_train,y_test"
   ]
  },
  {
   "cell_type": "code",
   "execution_count": 3,
   "metadata": {},
   "outputs": [
    {
     "name": "stdout",
     "output_type": "stream",
     "text": [
      "Training data shape:  (126, 500, 3)\n",
      "Testing data shape:  (54, 500, 3)\n"
     ]
    }
   ],
   "source": [
    "classes = {\"WALKING\":1,\"WALKING_UPSTAIRS\":2,\"WALKING_DOWNSTAIRS\":3,\"SITTING\":4,\"STANDING\":5,\"LAYING\":6}\n",
    "X_train,X_test,y_train,y_test = load_data()"
   ]
  },
  {
   "cell_type": "code",
   "execution_count": 4,
   "metadata": {},
   "outputs": [
    {
     "data": {
      "text/plain": [
       "(126, 500, 3)"
      ]
     },
     "execution_count": 4,
     "metadata": {},
     "output_type": "execute_result"
    }
   ],
   "source": [
    "X_train.shape"
   ]
  },
  {
   "cell_type": "code",
   "execution_count": 11,
   "metadata": {},
   "outputs": [
    {
     "name": "stdout",
     "output_type": "stream",
     "text": [
      "Unique train labels: tensor([0, 1, 2, 3, 4, 5])\n",
      "Unique test labels: tensor([0, 1, 2, 3, 4, 5])\n"
     ]
    }
   ],
   "source": [
    "import torch\n",
    "\n",
    "# Ensure X_train and y_train are PyTorch tensors\n",
    "X_train = torch.tensor(X_train, dtype=torch.float32)\n",
    "y_train = torch.tensor(y_train, dtype=torch.long) - 1  # Shift labels to 0-based index\n",
    "X_test = torch.tensor(X_test, dtype=torch.float32)\n",
    "y_test = torch.tensor(y_test, dtype=torch.long) - 1  # Shift labels to 0-based index\n",
    "\n",
    "# Ensure labels are in correct range\n",
    "print(\"Unique train labels:\", torch.unique(y_train))\n",
    "print(\"Unique test labels:\", torch.unique(y_test))\n",
    "\n",
    "# Create dataset\n",
    "train_dataset = TensorDataset(X_train, y_train)\n",
    "test_dataset = TensorDataset(X_test, y_test)\n",
    "\n",
    "# DataLoader for batching\n",
    "train_loader = DataLoader(train_dataset, batch_size=16, shuffle=True)\n",
    "test_loader = DataLoader(test_dataset, batch_size=16, shuffle=False)\n"
   ]
  },
  {
   "cell_type": "code",
   "execution_count": null,
   "metadata": {},
   "outputs": [
    {
     "name": "stdout",
     "output_type": "stream",
     "text": [
      "LSTMModel(\n",
      "  (lstm): LSTM(3, 64, num_layers=2, batch_first=True, dropout=0.5)\n",
      "  (fc): Linear(in_features=64, out_features=6, bias=True)\n",
      "  (dropout): Dropout(p=0.5, inplace=False)\n",
      ")\n"
     ]
    }
   ],
   "source": [
    "class LSTMModel(nn.Module):\n",
    "    def __init__(self, input_dim=3, hidden_dim=64, num_layers=2, num_classes=6, dropout=0.5):\n",
    "        super(LSTMModel, self).__init__()\n",
    "        self.lstm = nn.LSTM(input_dim, hidden_dim, num_layers, batch_first=True, dropout=dropout)\n",
    "        self.fc = nn.Linear(hidden_dim, num_classes)\n",
    "        self.dropout = nn.Dropout(dropout)\n",
    "\n",
    "    def forward(self, x):\n",
    "        lstm_out, _ = self.lstm(x) \n",
    "        out = self.dropout(lstm_out[:, -1, :])  \n",
    "        return self.fc(out)\n",
    "\n",
    "lstm_model = LSTMModel()\n",
    "print(lstm_model)\n"
   ]
  },
  {
   "cell_type": "code",
   "execution_count": null,
   "metadata": {},
   "outputs": [
    {
     "name": "stdout",
     "output_type": "stream",
     "text": [
      "CNN1DModel(\n",
      "  (conv1): Conv1d(3, 64, kernel_size=(3,), stride=(1,), padding=(1,))\n",
      "  (pool): MaxPool1d(kernel_size=2, stride=2, padding=0, dilation=1, ceil_mode=False)\n",
      "  (conv2): Conv1d(64, 128, kernel_size=(3,), stride=(1,), padding=(1,))\n",
      "  (dropout): Dropout(p=0.5, inplace=False)\n",
      "  (fc): Linear(in_features=16000, out_features=6, bias=True)\n",
      ")\n"
     ]
    }
   ],
   "source": [
    "class CNN1DModel(nn.Module):\n",
    "    def __init__(self, input_dim=3, num_classes=6, dropout=0.5):\n",
    "        super(CNN1DModel, self).__init__()\n",
    "        self.conv1 = nn.Conv1d(in_channels=input_dim, out_channels=64, kernel_size=3, stride=1, padding=1)\n",
    "        self.pool = nn.MaxPool1d(kernel_size=2)\n",
    "        self.conv2 = nn.Conv1d(64, 128, kernel_size=3, stride=1, padding=1)\n",
    "        self.dropout = nn.Dropout(dropout)\n",
    "\n",
    "        self._to_linear = None  # Dynamically calculate FC layer input size\n",
    "        self._compute_flattened_size()\n",
    "\n",
    "        self.fc = nn.Linear(self._to_linear, num_classes)\n",
    "\n",
    "    def _compute_flattened_size(self):\n",
    "        \"\"\" Runs a dummy forward pass to compute the flattened size for FC layer \"\"\"\n",
    "        with torch.no_grad():\n",
    "            x = torch.randn(1, 500, 3)  \n",
    "            x = x.permute(0, 2, 1)\n",
    "            x = self.pool(torch.relu(self.conv1(x)))\n",
    "            x = self.dropout(x)\n",
    "            x = self.pool(torch.relu(self.conv2(x)))\n",
    "            x = self.dropout(x)\n",
    "            self._to_linear = x.numel()  \n",
    "\n",
    "    def forward(self, x):\n",
    "        x = x.permute(0, 2, 1)  \n",
    "        x = self.pool(torch.relu(self.conv1(x)))\n",
    "        x = self.dropout(x)\n",
    "        x = self.pool(torch.relu(self.conv2(x)))\n",
    "        x = self.dropout(x)\n",
    "        x = x.view(x.shape[0], -1)  \n",
    "        x = self.dropout(x)\n",
    "        return self.fc(x)\n",
    "\n",
    "cnn_model = CNN1DModel()\n",
    "print(cnn_model)\n"
   ]
  },
  {
   "cell_type": "code",
   "execution_count": 20,
   "metadata": {},
   "outputs": [],
   "source": [
    "def train_model(model, train_loader, test_loader, num_epochs=50,patience=10):\n",
    "    criterion = nn.CrossEntropyLoss()\n",
    "    optimizer = optim.Adam(model.parameters(), lr=0.001, weight_decay=1e-4)  # L2 Regularization\n",
    "    device = torch.device(\"cuda\" if torch.cuda.is_available() else \"cpu\")\n",
    "    model.to(device)\n",
    "\n",
    "    best_test_loss = np.inf\n",
    "    patience_counter = 0\n",
    "\n",
    "    for epoch in range(num_epochs):\n",
    "        # Training\n",
    "        model.train()\n",
    "        total_loss, correct_train = 0, 0\n",
    "        \n",
    "        for X_batch, y_batch in train_loader:\n",
    "            X_batch, y_batch = X_batch.to(device), y_batch.to(device)\n",
    "            optimizer.zero_grad()\n",
    "            outputs = model(X_batch)\n",
    "            loss = criterion(outputs, y_batch)\n",
    "            loss.backward()\n",
    "            optimizer.step()\n",
    "            total_loss += loss.item()\n",
    "            correct_train += (outputs.argmax(1) == y_batch).sum().item()\n",
    "\n",
    "        train_acc = correct_train / len(train_loader.dataset)\n",
    "\n",
    "        # Test Accuracy\n",
    "        model.eval()\n",
    "        total_test_loss, correct_test = 0, 0\n",
    "        with torch.no_grad():\n",
    "            for X_batch, y_batch in test_loader:\n",
    "                X_batch, y_batch = X_batch.to(device), y_batch.to(device)\n",
    "                outputs = model(X_batch)\n",
    "                test_loss = criterion(outputs, y_batch)\n",
    "                total_test_loss += test_loss.item()\n",
    "                correct_test += (outputs.argmax(1) == y_batch).sum().item()\n",
    "\n",
    "        test_acc = correct_test / len(test_loader.dataset)\n",
    "\n",
    "        print(f\"Epoch {epoch+1}, Train Loss: {total_loss:.4f}, Train Acc: {train_acc:.4f}, Test Loss: {total_test_loss:.4f}, Test Acc: {test_acc:.4f}\")\n",
    "\n",
    "        # Early Stopping (optional)\n",
    "        if total_test_loss < best_test_loss:\n",
    "            best_test_loss = total_test_loss\n",
    "            patience_counter = 0\n",
    "        else:\n",
    "            patience_counter += 1\n",
    "\n",
    "        if patience_counter >= patience:\n",
    "            print(f\"Early stopping at epoch {epoch+1}\")\n",
    "            break\n"
   ]
  },
  {
   "cell_type": "code",
   "execution_count": 21,
   "metadata": {},
   "outputs": [
    {
     "name": "stdout",
     "output_type": "stream",
     "text": [
      "Training LSTM Model...\n",
      "Epoch 1, Train Loss: 10.0817, Train Acc: 0.4206, Test Loss: 4.5198, Test Acc: 0.4815\n",
      "Epoch 2, Train Loss: 10.0151, Train Acc: 0.3889, Test Loss: 4.3870, Test Acc: 0.4815\n",
      "Epoch 3, Train Loss: 9.6951, Train Acc: 0.4841, Test Loss: 4.3258, Test Acc: 0.5000\n",
      "Epoch 4, Train Loss: 9.5409, Train Acc: 0.4683, Test Loss: 4.4472, Test Acc: 0.5370\n",
      "Epoch 5, Train Loss: 9.6276, Train Acc: 0.4444, Test Loss: 4.3968, Test Acc: 0.4815\n",
      "Epoch 6, Train Loss: 9.3717, Train Acc: 0.4444, Test Loss: 4.3505, Test Acc: 0.4815\n",
      "Epoch 7, Train Loss: 9.5903, Train Acc: 0.4524, Test Loss: 4.3182, Test Acc: 0.4630\n",
      "Epoch 8, Train Loss: 9.8426, Train Acc: 0.4365, Test Loss: 4.3016, Test Acc: 0.4815\n",
      "Epoch 9, Train Loss: 9.9498, Train Acc: 0.4444, Test Loss: 4.3813, Test Acc: 0.4630\n",
      "Epoch 10, Train Loss: 10.0277, Train Acc: 0.4048, Test Loss: 4.3554, Test Acc: 0.4630\n",
      "Epoch 11, Train Loss: 9.6053, Train Acc: 0.4365, Test Loss: 4.2911, Test Acc: 0.4630\n",
      "Epoch 12, Train Loss: 9.8418, Train Acc: 0.3889, Test Loss: 4.1424, Test Acc: 0.5370\n",
      "Epoch 13, Train Loss: 9.0102, Train Acc: 0.4921, Test Loss: 4.0234, Test Acc: 0.5185\n",
      "Epoch 14, Train Loss: 9.0763, Train Acc: 0.4603, Test Loss: 4.0835, Test Acc: 0.5370\n",
      "Epoch 15, Train Loss: 8.8141, Train Acc: 0.4444, Test Loss: 4.0116, Test Acc: 0.5741\n",
      "Epoch 16, Train Loss: 8.7485, Train Acc: 0.4762, Test Loss: 3.9407, Test Acc: 0.5370\n",
      "Epoch 17, Train Loss: 8.4345, Train Acc: 0.4921, Test Loss: 3.9164, Test Acc: 0.5000\n",
      "Epoch 18, Train Loss: 8.6324, Train Acc: 0.5000, Test Loss: 3.9007, Test Acc: 0.5000\n",
      "Epoch 19, Train Loss: 8.9468, Train Acc: 0.4444, Test Loss: 4.1037, Test Acc: 0.5185\n",
      "Epoch 20, Train Loss: 8.7769, Train Acc: 0.4762, Test Loss: 4.1049, Test Acc: 0.5370\n",
      "Epoch 21, Train Loss: 8.4933, Train Acc: 0.5397, Test Loss: 4.0888, Test Acc: 0.5185\n",
      "Epoch 22, Train Loss: 8.7590, Train Acc: 0.5317, Test Loss: 6.2447, Test Acc: 0.4259\n",
      "Epoch 23, Train Loss: 11.2624, Train Acc: 0.3571, Test Loss: 4.2917, Test Acc: 0.5000\n",
      "Epoch 24, Train Loss: 9.5539, Train Acc: 0.5159, Test Loss: 5.0628, Test Acc: 0.3889\n",
      "Epoch 25, Train Loss: 9.6162, Train Acc: 0.4524, Test Loss: 4.3737, Test Acc: 0.4815\n",
      "Epoch 26, Train Loss: 9.2632, Train Acc: 0.4444, Test Loss: 4.2836, Test Acc: 0.5556\n",
      "Epoch 27, Train Loss: 8.8281, Train Acc: 0.5000, Test Loss: 4.1570, Test Acc: 0.5741\n",
      "Epoch 28, Train Loss: 8.5314, Train Acc: 0.5397, Test Loss: 4.0530, Test Acc: 0.5741\n",
      "Early stopping at epoch 28\n",
      "Training CNN Model...\n",
      "Epoch 1, Train Loss: 2.8680, Train Acc: 0.8889, Test Loss: 3.5710, Test Acc: 0.6852\n",
      "Epoch 2, Train Loss: 2.9490, Train Acc: 0.8571, Test Loss: 3.7533, Test Acc: 0.6667\n",
      "Epoch 3, Train Loss: 2.4104, Train Acc: 0.9048, Test Loss: 3.6983, Test Acc: 0.6481\n",
      "Epoch 4, Train Loss: 2.2921, Train Acc: 0.8889, Test Loss: 3.4509, Test Acc: 0.6852\n",
      "Epoch 5, Train Loss: 2.0862, Train Acc: 0.9206, Test Loss: 3.7627, Test Acc: 0.6481\n",
      "Epoch 6, Train Loss: 2.2516, Train Acc: 0.8889, Test Loss: 3.5607, Test Acc: 0.6296\n",
      "Epoch 7, Train Loss: 2.1689, Train Acc: 0.9286, Test Loss: 3.9144, Test Acc: 0.6296\n",
      "Epoch 8, Train Loss: 2.0821, Train Acc: 0.9206, Test Loss: 3.7119, Test Acc: 0.6852\n",
      "Epoch 9, Train Loss: 1.6775, Train Acc: 0.9444, Test Loss: 3.7116, Test Acc: 0.6481\n",
      "Epoch 10, Train Loss: 1.6714, Train Acc: 0.9286, Test Loss: 3.6688, Test Acc: 0.6852\n",
      "Epoch 11, Train Loss: 1.4503, Train Acc: 0.9524, Test Loss: 3.6716, Test Acc: 0.6667\n",
      "Epoch 12, Train Loss: 1.5629, Train Acc: 0.9365, Test Loss: 3.8197, Test Acc: 0.7037\n",
      "Epoch 13, Train Loss: 1.5266, Train Acc: 0.9524, Test Loss: 3.8192, Test Acc: 0.6481\n",
      "Epoch 14, Train Loss: 1.3270, Train Acc: 0.9365, Test Loss: 4.0336, Test Acc: 0.7222\n",
      "Early stopping at epoch 14\n"
     ]
    }
   ],
   "source": [
    "print(\"Training LSTM Model...\")\n",
    "train_model(lstm_model, train_loader, test_loader)\n",
    "\n",
    "print(\"Training CNN Model...\")\n",
    "train_model(cnn_model, train_loader, test_loader)\n"
   ]
  },
  {
   "cell_type": "code",
   "execution_count": 22,
   "metadata": {},
   "outputs": [],
   "source": [
    "import seaborn as sns\n",
    "import matplotlib.pyplot as plt\n",
    "from sklearn.metrics import confusion_matrix\n",
    "\n",
    "def get_predictions(model, test_loader):\n",
    "    \"\"\" Gets true and predicted labels from the test set. \"\"\"\n",
    "    model.eval()\n",
    "    y_true, y_pred = [], []\n",
    "\n",
    "    with torch.no_grad():\n",
    "        for X_batch, y_batch in test_loader:\n",
    "            X_batch, y_batch = X_batch, y_batch\n",
    "            outputs = model(X_batch)\n",
    "            predictions = outputs.argmax(1)\n",
    "\n",
    "            y_true.extend(y_batch.cpu().numpy())  \n",
    "            y_pred.extend(predictions.cpu().numpy())  \n",
    "\n",
    "    return y_true, y_pred\n"
   ]
  },
  {
   "cell_type": "code",
   "execution_count": 23,
   "metadata": {},
   "outputs": [],
   "source": [
    "def plot_confusion_matrix(y_true, y_pred, model_name):\n",
    "    \"\"\" Plots a confusion matrix for a given model. \"\"\"\n",
    "    cm = confusion_matrix(y_true, y_pred)\n",
    "\n",
    "    plt.figure(figsize=(8,6))\n",
    "    sns.heatmap(cm, annot=True, fmt=\"d\", cmap=\"Blues\", xticklabels=classes, yticklabels=classes)\n",
    "    plt.xlabel(\"Predicted Label\")\n",
    "    plt.ylabel(\"True Label\")\n",
    "    plt.title(f\"Confusion Matrix - {model_name}\")\n",
    "    plt.show()\n"
   ]
  },
  {
   "cell_type": "code",
   "execution_count": 24,
   "metadata": {},
   "outputs": [
    {
     "data": {
      "image/png": "[encoded data removed]",
      "text/plain": [
       "<Figure size 576x432 with 2 Axes>"
      ]
     },
     "metadata": {
      "needs_background": "light"
     },
     "output_type": "display_data"
    },
    {
     "data": {
      "image/png": "[encoded data removed]",
      "text/plain": [
       "<Figure size 576x432 with 2 Axes>"
      ]
     },
     "metadata": {
      "needs_background": "light"
     },
     "output_type": "display_data"
    }
   ],
   "source": [
    "# Evaluate LSTM Model\n",
    "y_true_lstm, y_pred_lstm = get_predictions(lstm_model, test_loader)\n",
    "plot_confusion_matrix(y_true_lstm, y_pred_lstm, \"LSTM Model\")\n",
    "\n",
    "# Evaluate CNN Model\n",
    "y_true_cnn, y_pred_cnn = get_predictions(cnn_model, test_loader)\n",
    "plot_confusion_matrix(y_true_cnn, y_pred_cnn, \"1D CNN Model\")\n"
   ]
  },
  {
   "cell_type": "code",
   "execution_count": null,
   "metadata": {},
   "outputs": [],
   "source": []
  }
 ],
 "metadata": {
  "kernelspec": {
   "display_name": "Python 3",
   "language": "python",
   "name": "python3"
  },
  "language_info": {
   "codemirror_mode": {
    "name": "ipython",
    "version": 3
   },
   "file_extension": ".py",
   "mimetype": "text/x-python",
   "name": "python",
   "nbconvert_exporter": "python",
   "pygments_lexer": "ipython3",
   "version": "3.10.2"
  }
 },
 "nbformat": 4,
 "nbformat_minor": 2
}
